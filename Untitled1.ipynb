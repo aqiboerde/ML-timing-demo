{
 "cells": [
  {
   "cell_type": "code",
   "execution_count": 8,
   "metadata": {},
   "outputs": [],
   "source": [
    "import talib as ta\n",
    "import numpy as np\n",
    "import baostock as bs\n",
    "import pandas as pd\n",
    "import pickle\n",
    "import seaborn as sns\n",
    "import matplotlib.pyplot as plt\n",
    "from sklearn.ensemble import RandomForestClassifier as RM  \n",
    "import sklearn.metrics as me"
   ]
  },
  {
   "cell_type": "code",
   "execution_count": 9,
   "metadata": {},
   "outputs": [
    {
     "data": {
      "text/plain": [
       "'D:\\\\google pan\\\\900+\\\\baostock'"
      ]
     },
     "execution_count": 9,
     "metadata": {},
     "output_type": "execute_result"
    }
   ],
   "source": [
    "import os\n",
    "os.chdir(\"D:\\\\google pan\\\\900+\\\\baostock\")  \n",
    "os.getcwd()    "
   ]
  },
  {
   "cell_type": "code",
   "execution_count": 10,
   "metadata": {},
   "outputs": [
    {
     "name": "stdout",
     "output_type": "stream",
     "text": [
      "            Unnamed: 0       code      open      high       low     close  \\\n",
      "date                                                                        \n",
      "2010-01-04           0  sh.000016  2565.108  2570.152  2514.237  2514.646   \n",
      "2010-01-05           1  sh.000016  2526.291  2560.667  2487.048  2543.991   \n",
      "2010-01-06           2  sh.000016  2538.285  2549.571  2513.365  2514.014   \n",
      "2010-01-07           3  sh.000016  2516.057  2527.427  2450.402  2463.758   \n",
      "2010-01-08           4  sh.000016  2453.061  2470.024  2432.013  2466.165   \n",
      "\n",
      "                  volume        amount  adjustflag  \n",
      "date                                                \n",
      "2010-01-04  2.732744e+09  3.646852e+10           3  \n",
      "2010-01-05  3.537744e+09  5.077912e+10           3  \n",
      "2010-01-06  2.964615e+09  4.344433e+10           3  \n",
      "2010-01-07  3.204318e+09  4.461141e+10           3  \n",
      "2010-01-08  2.268341e+09  3.233506e+10           3  \n"
     ]
    }
   ],
   "source": [
    "result=pd.read_csv('benchmark_timing_sz50.csv')\n",
    "df=result.set_index('date')\n",
    "df['volume']=df['volume'].map(lambda x:float(x))\n",
    "print(df.head())"
   ]
  },
  {
   "cell_type": "code",
   "execution_count": 12,
   "metadata": {},
   "outputs": [],
   "source": [
    "close = df['close'].values\n",
    "volume = df['volume'].values\n",
    "high = df['high'].values\n",
    "low = df['low'].values\n"
   ]
  },
  {
   "cell_type": "code",
   "execution_count": 13,
   "metadata": {},
   "outputs": [],
   "source": [
    "adx = ta.ADX(high, low, close, timeperiod=14).tolist()\n",
    "rsi = ta.RSI(close, timeperiod=14).tolist()\n",
    "mfi = ta.MFI(high, low, close, volume, timeperiod=14).tolist()\n",
    "momentum = ta.MOM(close, timeperiod=10).tolist()\n",
    "var = ta.VAR(close, timeperiod=14, nbdev=1).tolist()\n",
    "aroonosc = ta.AROONOSC(high, low, timeperiod=14).tolist()\n",
    "ema = ta.EMA(close, timeperiod=14).tolist()\n",
    "linreg = ta.LINEARREG(close, timeperiod=14).tolist()\n",
    "cycle = ta.HT_DCPERIOD(close).tolist()\n",
    "atr = ta.ATR(high, low, close, timeperiod=14).tolist()"
   ]
  },
  {
   "cell_type": "code",
   "execution_count": 14,
   "metadata": {},
   "outputs": [
    {
     "name": "stdout",
     "output_type": "stream",
     "text": [
      "         adx        rsi        mfi  momentum          var    aroonosc  \\\n",
      "0  37.574569  49.656509  73.867634    99.940   743.342995   92.857143   \n",
      "1  35.837264  48.368445  72.753285    73.147   848.482693  100.000000   \n",
      "2  34.373737  49.888906  65.094262    51.851  1022.383492   78.571429   \n",
      "3  33.591048  42.862185  64.596718    -3.212   870.989868   78.571429   \n",
      "4  32.868575  43.887490  64.115107   -16.447   629.132348   78.571429   \n",
      "\n",
      "           ema       linreg      cycle        atr  \n",
      "0  2274.739456  2279.906229  19.568454  44.751117  \n",
      "1  2278.398862  2293.719800  20.596382  43.439966  \n",
      "2  2282.857814  2306.971000  21.529289  42.150111  \n",
      "3  2280.066905  2299.979114  22.431844  42.968460  \n",
      "4  2278.449851  2292.114829  23.293896  41.170785  \n"
     ]
    }
   ],
   "source": [
    "predit_time=20\n",
    "X = np.array([adx,rsi,mfi,momentum,var,aroonosc,ema,linreg,cycle,atr]).T\n",
    "data_x=pd.DataFrame(X[35:-predit_time],columns=['adx','rsi','mfi','momentum','var','aroonosc','ema','linreg','cycle','atr'])\n",
    "print(data_x.head())"
   ]
  },
  {
   "cell_type": "code",
   "execution_count": 18,
   "metadata": {},
   "outputs": [
    {
     "name": "stdout",
     "output_type": "stream",
     "text": [
      "date\n",
      "2010-01-04    0.129621\n",
      "2010-01-05    0.138918\n",
      "2010-01-06    0.098671\n",
      "2010-01-07    0.085722\n",
      "2010-01-08    0.105337\n",
      "Name: close, dtype: float64\n",
      "[0 0 0 0 0 0 0 0 0 0 0 0 0 0 1 1 1 1 1 1]\n"
     ]
    }
   ],
   "source": [
    "## lebel the future return \n",
    "labels = np.log(df['close']/df['close'].shift(-predit_time))\n",
    "labels = labels.dropna()\n",
    "print(labels.head())\n",
    "threshold = 0.005 \n",
    "y1 = np.where(labels.values >= threshold, 1, 0) \n",
    "y = y1[35:]\n",
    "print(y[:20])"
   ]
  },
  {
   "cell_type": "code",
   "execution_count": 20,
   "metadata": {},
   "outputs": [
    {
     "name": "stdout",
     "output_type": "stream",
     "text": [
      "training set size is 1674\n",
      "test set size is     718\n"
     ]
    }
   ],
   "source": [
    "seperator = 0.7 \n",
    "length = len(y)\n",
    "X_train, X_test = data_x[:int(length * seperator)], data_x[int(length * seperator):]\n",
    "y_train, y_test = y[:int(length * seperator)], y[int(length * seperator):]\n",
    "print (u'training set size is %d'%len(X_train))\n",
    "print (u'test set size is     %d'%len(X_test))"
   ]
  },
  {
   "cell_type": "code",
   "execution_count": 21,
   "metadata": {},
   "outputs": [
    {
     "name": "stdout",
     "output_type": "stream",
     "text": [
      "              precision    recall  f1-score   support\n",
      "\n",
      "           0       0.61      0.74      0.67       452\n",
      "           1       0.32      0.21      0.26       266\n",
      "\n",
      "   micro avg       0.54      0.54      0.54       718\n",
      "   macro avg       0.47      0.48      0.46       718\n",
      "weighted avg       0.51      0.54      0.52       718\n",
      "\n",
      "random forest confusion matrix (test set)\n",
      " [[333 119]\n",
      " [209  57]]\n"
     ]
    },
    {
     "name": "stderr",
     "output_type": "stream",
     "text": [
      "E:\\anaconda3\\lib\\site-packages\\sklearn\\ensemble\\forest.py:246: FutureWarning: The default value of n_estimators will change from 10 in version 0.20 to 100 in 0.22.\n",
      "  \"10 in version 0.20 to 100 in 0.22.\", FutureWarning)\n"
     ]
    }
   ],
   "source": [
    "# fit the dataset with a ramdom forest classfier\n",
    "from sklearn.metrics import confusion_matrix\n",
    "model = RM().fit(X_train, y_train) \n",
    "y_pred = model.predict(X_test) \n",
    "print (me.classification_report(y_test,y_pred)) \n",
    "print('random forest confusion matrix (test set)\\n',confusion_matrix(y_test.astype(int).astype(str),y_pred.astype(str)))"
   ]
  },
  {
   "cell_type": "code",
   "execution_count": 22,
   "metadata": {},
   "outputs": [
    {
     "data": {
      "text/html": [
       "<div>\n",
       "<style scoped>\n",
       "    .dataframe tbody tr th:only-of-type {\n",
       "        vertical-align: middle;\n",
       "    }\n",
       "\n",
       "    .dataframe tbody tr th {\n",
       "        vertical-align: top;\n",
       "    }\n",
       "\n",
       "    .dataframe thead th {\n",
       "        text-align: right;\n",
       "    }\n",
       "</style>\n",
       "<table border=\"1\" class=\"dataframe\">\n",
       "  <thead>\n",
       "    <tr style=\"text-align: right;\">\n",
       "      <th></th>\n",
       "      <th>importance</th>\n",
       "      <th>feature</th>\n",
       "    </tr>\n",
       "    <tr>\n",
       "      <th>feature</th>\n",
       "      <th></th>\n",
       "      <th></th>\n",
       "    </tr>\n",
       "  </thead>\n",
       "  <tbody>\n",
       "    <tr>\n",
       "      <th>ema</th>\n",
       "      <td>0.161644</td>\n",
       "      <td>ema</td>\n",
       "    </tr>\n",
       "    <tr>\n",
       "      <th>atr</th>\n",
       "      <td>0.148082</td>\n",
       "      <td>atr</td>\n",
       "    </tr>\n",
       "    <tr>\n",
       "      <th>linreg</th>\n",
       "      <td>0.126079</td>\n",
       "      <td>linreg</td>\n",
       "    </tr>\n",
       "    <tr>\n",
       "      <th>cycle</th>\n",
       "      <td>0.106217</td>\n",
       "      <td>cycle</td>\n",
       "    </tr>\n",
       "    <tr>\n",
       "      <th>adx</th>\n",
       "      <td>0.104158</td>\n",
       "      <td>adx</td>\n",
       "    </tr>\n",
       "    <tr>\n",
       "      <th>var</th>\n",
       "      <td>0.094248</td>\n",
       "      <td>var</td>\n",
       "    </tr>\n",
       "    <tr>\n",
       "      <th>rsi</th>\n",
       "      <td>0.077906</td>\n",
       "      <td>rsi</td>\n",
       "    </tr>\n",
       "    <tr>\n",
       "      <th>mfi</th>\n",
       "      <td>0.068170</td>\n",
       "      <td>mfi</td>\n",
       "    </tr>\n",
       "    <tr>\n",
       "      <th>momentum</th>\n",
       "      <td>0.064032</td>\n",
       "      <td>momentum</td>\n",
       "    </tr>\n",
       "    <tr>\n",
       "      <th>aroonosc</th>\n",
       "      <td>0.049465</td>\n",
       "      <td>aroonosc</td>\n",
       "    </tr>\n",
       "  </tbody>\n",
       "</table>\n",
       "</div>"
      ],
      "text/plain": [
       "          importance   feature\n",
       "feature                       \n",
       "ema         0.161644       ema\n",
       "atr         0.148082       atr\n",
       "linreg      0.126079    linreg\n",
       "cycle       0.106217     cycle\n",
       "adx         0.104158       adx\n",
       "var         0.094248       var\n",
       "rsi         0.077906       rsi\n",
       "mfi         0.068170       mfi\n",
       "momentum    0.064032  momentum\n",
       "aroonosc    0.049465  aroonosc"
      ]
     },
     "execution_count": 22,
     "metadata": {},
     "output_type": "execute_result"
    },
    {
     "data": {
      "image/png": "[encoded data removed]",
      "text/plain": [
       "<Figure size 432x288 with 1 Axes>"
      ]
     },
     "metadata": {
      "needs_background": "light"
     },
     "output_type": "display_data"
    }
   ],
   "source": [
    "# Check which feature are more important in random forest model\n",
    "important_features = model.feature_importances_\n",
    "feature_impDF = pd.DataFrame()\n",
    "feature_impDF[\"importance\"] = important_features\n",
    "feature_impDF[\"feature\"] = data_x.columns\n",
    "feature_impDF.sort_values(\"importance\",ascending=False,inplace=True)\n",
    "feature_impDF.set_index(feature_impDF.feature,inplace=True)\n",
    "feature_impDF.importance.plot(kind=\"bar\")\n",
    "feature_impDF"
   ]
  },
  {
   "cell_type": "code",
   "execution_count": 23,
   "metadata": {},
   "outputs": [],
   "source": [
    "# Check more classifiers\n",
    "from sklearn.ensemble import RandomForestClassifier,AdaBoostClassifier,GradientBoostingClassifier,ExtraTreesClassifier\n",
    "from sklearn.discriminant_analysis import LinearDiscriminantAnalysis\n",
    "from sklearn.linear_model import LogisticRegression\n",
    "from sklearn.neighbors import KNeighborsClassifier\n",
    "from sklearn.tree import DecisionTreeClassifier\n",
    "from sklearn.svm import SVC\n",
    "from sklearn.model_selection import GridSearchCV,cross_val_score,StratifiedKFold\n",
    "from sklearn import preprocessing\n",
    "\n",
    "\n",
    "experData_X = X_train\n",
    "experData_y = y_train\n",
    "experData_X = preprocessing.scale(X_train)\n",
    "X_test = preprocessing.scale(X_test)\n",
    "#Use cross-validation to evlualate models\n",
    "kfold = StratifiedKFold(n_splits=10)\n",
    "\n",
    "#collect different classifier\n",
    "classifiers = []\n",
    "classifiers.append(SVC())\n",
    "classifiers.append(DecisionTreeClassifier())\n",
    "classifiers.append(RandomForestClassifier())\n",
    "classifiers.append(ExtraTreesClassifier())\n",
    "classifiers.append(GradientBoostingClassifier())\n",
    "classifiers.append(KNeighborsClassifier())\n",
    "classifiers.append(LogisticRegression())\n",
    "classifiers.append(LinearDiscriminantAnalysis())"
   ]
  },
  {
   "cell_type": "code",
   "execution_count": 31,
   "metadata": {},
   "outputs": [
    {
     "name": "stdout",
     "output_type": "stream",
     "text": [
      "    cv_mean    cv_std            algorithm\n",
      "0  0.362553  0.081179                  SVC\n",
      "1  0.352944  0.135151      DecisionTreeCla\n",
      "2  0.337511  0.116359      RandomForestCla\n",
      "3  0.336384  0.103541        ExtraTreesCla\n",
      "4  0.297434  0.090719  GradientBoostingCla\n",
      "5  0.382414  0.073518                  KNN\n",
      "6  0.440801  0.107536                   LR\n",
      "7  0.443784  0.098399    LinearDiscrimiAna\n"
     ]
    },
    {
     "data": {
      "text/plain": [
       "<matplotlib.axes._subplots.AxesSubplot at 0xbced470>"
      ]
     },
     "execution_count": 31,
     "metadata": {},
     "output_type": "execute_result"
    },
    {
     "data": {
      "image/png": "[encoded data removed]",
      "text/plain": [
       "<Figure size 432x288 with 1 Axes>"
      ]
     },
     "metadata": {
      "needs_background": "light"
     },
     "output_type": "display_data"
    }
   ],
   "source": [
    "# Check the pefermance of all model just in training set\n",
    "cv_results=[]\n",
    "for classifier in classifiers:\n",
    "    cv_results.append(cross_val_score(classifier,experData_X,experData_y,\n",
    "                                      scoring='accuracy',cv=kfold,n_jobs=-1))\n",
    "\n",
    "#get the mean and std of the accuracy score for all models \n",
    "cv_means=[]\n",
    "cv_std=[]\n",
    "for cv_result in cv_results:\n",
    "    cv_means.append(cv_result.mean())\n",
    "    cv_std.append(cv_result.std())\n",
    "    \n",
    "#Collect these data\n",
    "cvResDf=pd.DataFrame({'cv_mean':cv_means,\n",
    "                     'cv_std':cv_std,\n",
    "                     'algorithm':['SVC','DecisionTreeCla','RandomForestCla','ExtraTreesCla',\n",
    "                                  'GradientBoostingCla','KNN','LR','LinearDiscrimiAna']})\n",
    "\n",
    "print(cvResDf)\n",
    "sns.barplot(data=cvResDf,x='cv_mean',y='algorithm',**{'xerr':cv_std})"
   ]
  },
  {
   "cell_type": "markdown",
   "metadata": {},
   "source": [
    "Do parameter turning for gradientBoostingClassifier "
   ]
  },
  {
   "cell_type": "code",
   "execution_count": 29,
   "metadata": {},
   "outputs": [
    {
     "name": "stdout",
     "output_type": "stream",
     "text": [
      "Fitting 10 folds for each of 72 candidates, totalling 720 fits\n"
     ]
    },
    {
     "name": "stderr",
     "output_type": "stream",
     "text": [
      "[Parallel(n_jobs=-1)]: Using backend LokyBackend with 4 concurrent workers.\n",
      "[Parallel(n_jobs=-1)]: Done  76 tasks      | elapsed:    5.0s\n",
      "[Parallel(n_jobs=-1)]: Done 376 tasks      | elapsed:   24.9s\n"
     ]
    },
    {
     "name": "stdout",
     "output_type": "stream",
     "text": [
      "GradientBoostingClassifier confusion matrix(in sample)\n",
      " [[725 149]\n",
      " [353 447]]\n",
      "GradientBoosting accuracy (insample)：0.700\n",
      "GradientBoostingClassifier confusion matrix(out of sample)\n",
      " [[357  95]\n",
      " [162 104]]\n",
      "GradientBoosting accuracy (outofsample)：0.642\n"
     ]
    },
    {
     "name": "stderr",
     "output_type": "stream",
     "text": [
      "[Parallel(n_jobs=-1)]: Done 720 out of 720 | elapsed:   48.8s finished\n",
      "E:\\anaconda3\\lib\\site-packages\\sklearn\\model_selection\\_search.py:841: DeprecationWarning: The default of the `iid` parameter will change from True to False in version 0.22 and will be removed in 0.24. This will change numeric results when test-set sizes are unequal.\n",
      "  DeprecationWarning)\n"
     ]
    }
   ],
   "source": [
    "GBC = GradientBoostingClassifier()\n",
    "gb_param_grid = {'loss' : [\"deviance\"],\n",
    "              'n_estimators' : [100,200,300],\n",
    "              'learning_rate': [0.1, 0.05, 0.01],\n",
    "              'max_depth': [4, 8],\n",
    "              'min_samples_leaf': [100,150],\n",
    "              'max_features': [0.3, 0.1] \n",
    "              }\n",
    "modelgsGBC = GridSearchCV(GBC,param_grid = gb_param_grid, cv=kfold, \n",
    "                                     scoring=\"accuracy\", n_jobs= -1, verbose = 1)\n",
    "modelgsGBC.fit(experData_X,experData_y)\n",
    "\n",
    "modelgsGBCtestpre_y=modelgsGBC.predict(experData_X).astype(int)\n",
    "print('GradientBoostingClassifier confusion matrix(in sample)\\n',confusion_matrix(experData_y.astype(int).astype(str),modelgsGBCtestpre_y.astype(str)))\n",
    "print('GradientBoosting accuracy (insample)：%.3f' % me.accuracy_score(experData_y,modelgsGBCtestpre_y))\n",
    "print('GradientBoostingClassifier confusion matrix(out of sample)\\n',confusion_matrix(y_test.astype(int).astype(str),modelgsGBC.predict(X_test).astype(int).astype(str)))\n",
    "print('GradientBoosting accuracy (outofsample)：%.3f' % me.accuracy_score(y_test,modelgsGBC.predict(X_test)))\n",
    "#GB_result=pd.DataFrame(modelgsGBC.cv_results_)"
   ]
  },
  {
   "cell_type": "code",
   "execution_count": null,
   "metadata": {},
   "outputs": [],
   "source": []
  },
  {
   "cell_type": "code",
   "execution_count": null,
   "metadata": {},
   "outputs": [],
   "source": []
  }
 ],
 "metadata": {
  "kernelspec": {
   "display_name": "Python 3",
   "language": "python",
   "name": "python3"
  },
  "language_info": {
   "codemirror_mode": {
    "name": "ipython",
    "version": 3
   },
   "file_extension": ".py",
   "mimetype": "text/x-python",
   "name": "python",
   "nbconvert_exporter": "python",
   "pygments_lexer": "ipython3",
   "version": "3.7.1"
  }
 },
 "nbformat": 4,
 "nbformat_minor": 2
}
